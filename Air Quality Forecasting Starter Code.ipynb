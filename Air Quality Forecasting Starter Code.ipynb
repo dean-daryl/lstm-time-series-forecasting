{
 "cells": [
  {
   "cell_type": "markdown",
   "metadata": {
    "id": "iTsEYdtov6tp"
   },
   "source": [
    "# Beijing Air Quality Forecasting Starter Notebook"
   ]
  },
  {
   "cell_type": "code",
   "execution_count": null,
   "metadata": {
    "id": "nWkSHhqXrCqF"
   },
   "outputs": [],
   "source": [
    "import pandas as pd\n",
    "import numpy as np\n",
    "import matplotlib.pyplot as plt\n",
    "from tensorflow.keras.models import Sequential\n",
    "from tensorflow.keras.layers import LSTM, Dense, Dropout\n",
    "import tensorflow as tf\n",
    "from sklearn.preprocessing import MinMaxScaler\n",
    "from sklearn.metrics import mean_squared_error\n",
    "from tensorflow.keras.callbacks import EarlyStopping\n",
    "from tensorflow.keras.layers import Bidirectional\n"
   ]
  },
  {
   "cell_type": "code",
   "execution_count": null,
   "metadata": {
    "id": "gxW-6b_jrLAL"
   },
   "outputs": [],
   "source": [
    "train = pd.read_csv('data/train.csv')\n",
    "test = pd.read_csv('data/test.csv')"
   ]
  },
  {
   "cell_type": "markdown",
   "metadata": {
    "id": "cRse3uqRrft5"
   },
   "source": [
    "# Explore the training data\n",
    "\n",
    "In this sections explore your dataset with appropiate statistics and visualisations to understand your better. Ensure that you explain output of every code cell and what it entails."
   ]
  },
  {
   "cell_type": "code",
   "execution_count": null,
   "metadata": {
    "colab": {
     "base_uri": "https://localhost:8080/",
     "height": 223
    },
    "id": "3R74CEBFrYok",
    "outputId": "0e593627-9c80-490c-826e-74e4df4a2249"
   },
   "outputs": [],
   "source": [
    "print(\"Training Data Overview:\")\n",
    "print(train.head())\n"
   ]
  },
  {
   "cell_type": "code",
   "execution_count": null,
   "metadata": {},
   "outputs": [],
   "source": [
    "pm25_stats = train['pm2.5'].describe()\n",
    "print(pm25_stats)\n",
    "\n",
    "# If you want mean, std, min, max separately\n",
    "pm25_mean = train['pm2.5'].mean()\n",
    "pm25_std = train['pm2.5'].std()\n",
    "pm25_min = train['pm2.5'].min()\n",
    "pm25_max = train['pm2.5'].max()\n",
    "\n",
    "print(f\"Mean: {pm25_mean}, Std: {pm25_std}, Min: {pm25_min}, Max: {pm25_max}\")"
   ]
  },
  {
   "cell_type": "code",
   "execution_count": null,
   "metadata": {
    "colab": {
     "base_uri": "https://localhost:8080/"
    },
    "id": "-om6hH_RtG8Z",
    "outputId": "8fefc873-d80f-4b45-ead2-89bbfc8d4d62"
   },
   "outputs": [],
   "source": [
    "train.columns"
   ]
  },
  {
   "cell_type": "code",
   "execution_count": null,
   "metadata": {},
   "outputs": [],
   "source": [
    "import pandas as pd\n",
    "import matplotlib.pyplot as plt\n",
    "import seaborn as sns\n",
    "\n",
    "train = pd.read_csv(\"data/train.csv\", parse_dates=['datetime'])\n",
    "train.set_index('datetime', inplace=True)\n",
    "\n",
    "plt.figure(figsize=(15,5))\n",
    "plt.plot(train['pm2.5'], color='blue')\n",
    "plt.title('PM2.5 Concentration Over Time')\n",
    "plt.xlabel('Datetime')\n",
    "plt.ylabel('PM2.5 (µg/m³)')\n",
    "plt.show()\n",
    "\n",
    "plt.figure(figsize=(10,5))\n",
    "sns.histplot(train['pm2.5'], bins=50, kde=True, color='green')\n",
    "plt.title('Distribution of PM2.5 Values')\n",
    "plt.xlabel('PM2.5 (µg/m³)')\n",
    "plt.ylabel('Frequency')\n",
    "plt.show()\n",
    "\n",
    "plt.figure(figsize=(10,5))\n",
    "sns.boxplot(x=train['pm2.5'], color='orange')\n",
    "plt.title('Boxplot of PM2.5 Values')\n",
    "plt.xlabel('PM2.5 (µg/m³)')\n",
    "plt.show()\n",
    "\n",
    "train['hour'] = train.index.hour\n",
    "hourly_avg = train.groupby('hour')['pm2.5'].mean()\n",
    "\n",
    "plt.figure(figsize=(10,5))\n",
    "plt.plot(hourly_avg, marker='o')\n",
    "plt.title('Average PM2.5 by Hour of Day')\n",
    "plt.xlabel('Hour')\n",
    "plt.ylabel('Average PM2.5')\n",
    "plt.grid(True)\n",
    "plt.show()\n",
    "\n",
    "train['day_of_week'] = train.index.dayofweek\n",
    "weekly_avg = train.groupby('day_of_week')['pm2.5'].mean()\n",
    "\n",
    "plt.figure(figsize=(10,5))\n",
    "plt.plot(weekly_avg, marker='o', color='purple')\n",
    "plt.title('Average PM2.5 by Day of Week (0=Monday)')\n",
    "plt.xlabel('Day of Week')\n",
    "plt.ylabel('Average PM2.5')\n",
    "plt.grid(True)\n",
    "plt.show()\n"
   ]
  },
  {
   "cell_type": "code",
   "execution_count": null,
   "metadata": {
    "id": "35IGrMYRscQx"
   },
   "outputs": [],
   "source": [
    "train['datetime'] = pd.to_datetime(train['datetime'])\n",
    "test['datetime'] = pd.to_datetime(test['datetime'])\n",
    "train.set_index('datetime', inplace=True)\n",
    "test.set_index('datetime', inplace=True)\n",
    "\n",
    "train.fillna(train.mean(), inplace=True)\n",
    "test.fillna(test.mean(), inplace=True)\n",
    "\n",
    "# Store original data for later use\n",
    "X_original = train.drop(['pm2.5', 'No'], axis=1)\n",
    "y_original = train['pm2.5'].values\n"
   ]
  },
  {
   "cell_type": "code",
   "execution_count": null,
   "metadata": {},
   "outputs": [],
   "source": [
    "X_train_basic = train.drop(['pm2.5', 'No'], axis=1)\n",
    "y_train_basic = train['pm2.5']"
   ]
  },
  {
   "cell_type": "markdown",
   "metadata": {
    "id": "ABAqt0Jztd5s"
   },
   "source": [
    "# Handle missing values\n",
    "\n",
    "\n",
    "- Check the dataset for missing values and decide how to handle them.\n",
    "- In this example, missing values are filled with the mean. You can experiment with other strategies."
   ]
  },
  {
   "cell_type": "markdown",
   "metadata": {
    "id": "YKndkdRuty1C"
   },
   "source": [
    "# Separate features and target\n",
    "\n",
    "- Feel free to trop any non-essential columns like that you think might not contribute to modeling."
   ]
  },
  {
   "cell_type": "code",
   "execution_count": null,
   "metadata": {
    "id": "QETLRAo_tvQH"
   },
   "outputs": [],
   "source": [
    "scaler_basic = MinMaxScaler()\n",
    "X_train_scaled_basic = scaler_basic.fit_transform(X_train_basic)"
   ]
  },
  {
   "cell_type": "code",
   "execution_count": null,
   "metadata": {},
   "outputs": [],
   "source": [
    "X_train_lstm_basic = np.expand_dims(X_train_scaled_basic, axis=1)"
   ]
  },
  {
   "cell_type": "markdown",
   "metadata": {
    "id": "d488782wuR2W"
   },
   "source": [
    "# Build model\n",
    "\n",
    "Below is a simple LSTM model. Your task is to experiment with different parameters like, numbers of layers, units, activation functions, and optimizers, etc to get the best performing model. Experiment with other optimizers (e.g., SGD) or hyperparameters to improve performance."
   ]
  },
  {
   "cell_type": "code",
   "execution_count": null,
   "metadata": {},
   "outputs": [],
   "source": [
    "model_basic = Sequential([\n",
    "    LSTM(32, activation='relu', input_shape=(X_train_lstm_basic.shape[1], X_train_lstm_basic.shape[2])),\n",
    "    Dense(1)\n",
    "])\n",
    "\n",
    "model_basic.compile(optimizer='adam', loss='mse')\n",
    "model_basic.summary()"
   ]
  },
  {
   "cell_type": "code",
   "execution_count": null,
   "metadata": {
    "colab": {
     "base_uri": "https://localhost:8080/"
    },
    "id": "uM0Xuq7XvdTZ",
    "outputId": "b6df9dee-acfd-416b-d50e-ab9b40201c73"
   },
   "outputs": [],
   "source": [
    "history_basic = model_basic.fit(\n",
    "    X_train_lstm_basic, y_train_basic,\n",
    "    epochs=10,\n",
    "    batch_size=32,\n",
    "    verbose=1  # Changed from 0 to see progress\n",
    ")\n",
    "\n",
    "train_pred_basic = model_basic.predict(X_train_lstm_basic, verbose=0)\n",
    "basic_rmse = np.sqrt(mean_squared_error(y_train_basic, train_pred_basic))\n",
    "print(f\"Basic Model Training RMSE: {basic_rmse:.2f}\")\n",
    "\n",
    "# Initialize results dictionary\n",
    "rmse_results = {'Step1_Basic': basic_rmse}"
   ]
  },
  {
   "cell_type": "code",
   "execution_count": null,
   "metadata": {},
   "outputs": [],
   "source": [
    "split_idx = int(len(train) * 0.8)\n",
    "train_data = train.iloc[:split_idx]\n",
    "val_data = train.iloc[split_idx:]\n",
    "\n",
    "X_train_step2 = train_data.drop(['pm2.5', 'No'], axis=1)\n",
    "y_train_step2 = train_data['pm2.5']\n",
    "X_val_step2 = val_data.drop(['pm2.5', 'No'], axis=1)\n",
    "y_val_step2 = val_data['pm2.5']\n",
    "\n",
    "\n",
    "# Scale using training data only\n",
    "scaler_step2 = MinMaxScaler()\n",
    "X_train_scaled_step2 = scaler_step2.fit_transform(X_train_step2)\n",
    "X_val_scaled_step2 = scaler_step2.transform(X_val_step2)"
   ]
  },
  {
   "cell_type": "code",
   "execution_count": null,
   "metadata": {},
   "outputs": [],
   "source": [
    "X_train_lstm_step2 = np.expand_dims(X_train_scaled_step2, axis=1)\n",
    "X_val_lstm_step2 = np.expand_dims(X_val_scaled_step2, axis=1)\n",
    "\n",
    "# Same model architecture\n",
    "model_step2 = Sequential([\n",
    "    LSTM(32, activation='relu', input_shape=(X_train_lstm_step2.shape[1], X_train_lstm_step2.shape[2])),\n",
    "    Dense(1)\n",
    "])\n",
    "model_step2.compile(optimizer='adam', loss='mse')\n",
    "\n",
    "# Train with validation\n",
    "print(\"Training with validation split...\")\n",
    "history_step2 = model_step2.fit(\n",
    "    X_train_lstm_step2, y_train_step2,\n",
    "    validation_data=(X_val_lstm_step2, y_val_step2),\n",
    "    epochs=20,\n",
    "    batch_size=32,\n",
    "    verbose=1\n",
    ")"
   ]
  },
  {
   "cell_type": "code",
   "execution_count": null,
   "metadata": {},
   "outputs": [],
   "source": [
    "train_pred_step2 = model_step2.predict(X_train_lstm_step2, verbose=0)\n",
    "val_pred_step2 = model_step2.predict(X_val_lstm_step2, verbose=0)\n",
    "\n",
    "train_rmse_step2 = np.sqrt(mean_squared_error(y_train_step2, train_pred_step2))\n",
    "val_rmse_step2 = np.sqrt(mean_squared_error(y_val_step2, val_pred_step2))\n",
    "\n",
    "rmse_results['Step2_Validation'] = val_rmse_step2\n",
    "\n",
    "print(f\"Step 2 - Train RMSE: {train_rmse_step2:.2f}\")\n",
    "print(f\"Step 2 - Validation RMSE: {val_rmse_step2:.2f}\")"
   ]
  },
  {
   "cell_type": "code",
   "execution_count": null,
   "metadata": {},
   "outputs": [],
   "source": [
    "def add_lag_features(df, target_col='pm2.5', lags=[1, 2, 3]):\n",
    "    df = df.copy()\n",
    "    if target_col in df.columns:\n",
    "        for lag in lags:\n",
    "            df[f'{target_col}_lag{lag}'] = df[target_col].shift(lag)\n",
    "    return df.dropna()\n",
    "\n",
    "# Apply lag features to train data\n",
    "train_with_lags = add_lag_features(train)\n",
    "\n",
    "# Split again with lag features\n",
    "split_idx_step3 = int(len(train_with_lags) * 0.8)\n",
    "train_data_step3 = train_with_lags.iloc[:split_idx_step3]\n",
    "val_data_step3 = train_with_lags.iloc[split_idx_step3:]\n",
    "\n",
    "X_train_step3 = train_data_step3.drop(['pm2.5', 'No'], axis=1)\n",
    "y_train_step3 = train_data_step3['pm2.5']\n",
    "X_val_step3 = val_data_step3.drop(['pm2.5', 'No'], axis=1)\n",
    "y_val_step3 = val_data_step3['pm2.5']\n",
    "\n",
    "# Scale\n",
    "scaler_step3 = MinMaxScaler()\n",
    "X_train_scaled_step3 = scaler_step3.fit_transform(X_train_step3)\n",
    "X_val_scaled_step3 = scaler_step3.transform(X_val_step3)\n",
    "\n",
    "# Reshape for LSTM\n",
    "X_train_lstm_step3 = np.expand_dims(X_train_scaled_step3, axis=1)\n",
    "X_val_lstm_step3 = np.expand_dims(X_val_scaled_step3, axis=1)\n",
    "\n",
    "# Same model architecture\n",
    "model_step3 = Sequential([\n",
    "    LSTM(32, activation='relu', input_shape=(X_train_lstm_step3.shape[1], X_train_lstm_step3.shape[2])),\n",
    "    Dense(1)\n",
    "])\n",
    "model_step3.compile(optimizer='adam', loss='mse')\n",
    "\n",
    "print(\"Training with lag features...\")\n",
    "history_step3 = model_step3.fit(\n",
    "    X_train_lstm_step3, y_train_step3,\n",
    "    validation_data=(X_val_lstm_step3, y_val_step3),\n",
    "    epochs=20,\n",
    "    batch_size=32,\n",
    "    verbose=0\n",
    ")\n",
    "\n",
    "# Evaluate\n",
    "val_pred_step3 = model_step3.predict(X_val_lstm_step3, verbose=0)\n",
    "val_rmse_step3 = np.sqrt(mean_squared_error(y_val_step3, val_pred_step3))\n",
    "print(f\"Step 3 - Validation RMSE with lags: {val_rmse_step3:.2f}\")\n"
   ]
  },
  {
   "cell_type": "code",
   "execution_count": null,
   "metadata": {},
   "outputs": [],
   "source": [
    "# Better model with dropout\n",
    "model_step4 = Sequential([\n",
    "    LSTM(64, activation='relu', input_shape=(X_train_lstm_step3.shape[1], X_train_lstm_step3.shape[2]), \n",
    "         return_sequences=True),\n",
    "    Dropout(0.2),\n",
    "    LSTM(32, activation='relu'),\n",
    "    Dropout(0.2),\n",
    "    Dense(16, activation='relu'),\n",
    "    Dense(1)\n",
    "])\n",
    "\n",
    "model_step4.compile(optimizer='adam', loss='mse', metrics=['mae'])\n",
    "\n",
    "# Add early stopping\n",
    "early_stop = EarlyStopping(monitor='val_loss', patience=5, restore_best_weights=True)\n",
    "\n",
    "print(\"Training improved model...\")\n",
    "history_step4 = model_step4.fit(\n",
    "    X_train_lstm_step3, y_train_step3,\n",
    "    validation_data=(X_val_lstm_step3, y_val_step3),\n",
    "    epochs=50,\n",
    "    batch_size=32,\n",
    "    callbacks=[early_stop],\n",
    "    verbose=0\n",
    ")\n",
    "\n",
    "val_pred_step4 = model_step4.predict(X_val_lstm_step3, verbose=0)\n",
    "val_rmse_step4 = np.sqrt(mean_squared_error(y_val_step3, val_pred_step4))\n",
    "print(f\"Step 4 - Validation RMSE with better model: {val_rmse_step4:.2f}\")"
   ]
  },
  {
   "cell_type": "code",
   "execution_count": null,
   "metadata": {},
   "outputs": [],
   "source": [
    "from tensorflow.keras.models import Sequential\n",
    "from tensorflow.keras.layers import LSTM, GRU, Dense, Dropout, Bidirectional\n",
    "from tensorflow.keras.callbacks import EarlyStopping\n",
    "\n",
    "# Parameters\n",
    "seq_length = 48\n",
    "batch_size = 32\n",
    "epochs = 50\n",
    "\n",
    "# Timeseries Generators (reuse your existing scaled data)\n",
    "train_gen = TimeseriesGenerator(X_train_seq, y_train_seq, length=seq_length, batch_size=batch_size)\n",
    "val_gen = TimeseriesGenerator(X_val_seq, y_val_seq, length=seq_length, batch_size=batch_size)\n",
    "\n",
    "# Hybrid BiLSTM + GRU Model\n",
    "model_step5_hybrid = Sequential([\n",
    "    Bidirectional(LSTM(64, return_sequences=True), input_shape=(seq_length, X_train_seq.shape[1])),\n",
    "    Dropout(0.3),\n",
    "    GRU(32, return_sequences=True),\n",
    "    Dropout(0.2),\n",
    "    LSTM(16),\n",
    "    Dense(1)\n",
    "])\n",
    "\n",
    "model_step5_hybrid.compile(optimizer='adam', loss='mse', metrics=['mae'])\n",
    "model_step5_hybrid.summary()\n",
    "\n",
    "# Early stopping\n",
    "early_stop = EarlyStopping(monitor='val_loss', patience=10, restore_best_weights=True)\n",
    "\n",
    "# Training\n",
    "history_step5_hybrid = model_step5_hybrid.fit(\n",
    "    train_gen,\n",
    "    validation_data=val_gen,\n",
    "    epochs=epochs,\n",
    "    callbacks=[early_stop],\n",
    "    verbose=1\n",
    ")\n",
    "\n",
    "# Validation predictions\n",
    "val_preds_scaled = model_step5_hybrid.predict(val_gen)\n",
    "val_preds = scaler_y.inverse_transform(val_preds_scaled)\n",
    "y_val_true = scaler_y.inverse_transform(y_val_seq[seq_length:])\n",
    "\n",
    "val_rmse_step5_hybrid = np.sqrt(mean_squared_error(y_val_true, val_preds))\n",
    "rmse_results['Step5_Hybrid_BiLSTM_GRU'] = val_rmse_step5_hybrid\n",
    "print(f\"Step 5 Hybrid BiLSTM+GRU - Validation RMSE: {val_rmse_step5_hybrid:.2f}\")\n"
   ]
  },
  {
   "cell_type": "code",
   "execution_count": null,
   "metadata": {},
   "outputs": [],
   "source": [
    "# Display all results\n",
    "print(\"=\"*50)\n",
    "print(\"FINAL RESULTS COMPARISON\")\n",
    "print(\"=\"*50)\n",
    "for step, rmse in rmse_results.items():\n",
    "    print(f\"{step}: RMSE = {rmse:.2f}\")\n",
    "\n",
    "# Plot comparison\n",
    "plt.figure(figsize=(12, 6))\n",
    "steps = list(rmse_results.keys())\n",
    "rmse_values = list(rmse_results.values())\n",
    "\n",
    "# Clean step names\n",
    "clean_steps = [s.replace('Step', 'Step ').replace('_', ' ') for s in steps]\n",
    "\n",
    "bars = plt.bar(clean_steps, rmse_values, color=['red', 'orange', 'yellow', 'lightgreen', 'green'])\n",
    "plt.title('RMSE Improvement Through Steps')\n",
    "plt.ylabel('RMSE')\n",
    "plt.xticks(rotation=45)\n",
    "\n",
    "# Add value labels\n",
    "for i, (bar, v) in enumerate(zip(bars, rmse_values)):\n",
    "    plt.text(bar.get_x() + bar.get_width()/2, bar.get_height() + 1, \n",
    "             f'{v:.1f}', ha='center', fontweight='bold')\n",
    "\n",
    "plt.tight_layout()\n",
    "plt.show()\n",
    "\n",
    "improvement = ((rmse_results['Step1_Basic'] - rmse_results['Step5_Sequences'])/rmse_results['Step1_Basic'])*100\n",
    "print(f\"\\nTotal improvement: {improvement:.1f}%\")"
   ]
  },
  {
   "cell_type": "code",
   "execution_count": 50,
   "metadata": {},
   "outputs": [
    {
     "name": "stdout",
     "output_type": "stream",
     "text": [
      "Generating test predictions...\n"
     ]
    },
    {
     "name": "stderr",
     "output_type": "stream",
     "text": [
      "/Users/darylmurenzi/.pyenv/versions/3.11.0/lib/python3.11/site-packages/sklearn/utils/validation.py:2742: UserWarning: X has feature names, but MinMaxScaler was fitted without feature names\n",
      "  warnings.warn(\n",
      "/Users/darylmurenzi/.pyenv/versions/3.11.0/lib/python3.11/site-packages/keras/src/trainers/data_adapters/py_dataset_adapter.py:121: UserWarning: Your `PyDataset` class should call `super().__init__(**kwargs)` in its constructor. `**kwargs` can include `workers`, `use_multiprocessing`, `max_queue_size`. Do not pass these arguments to `fit()`, as they will be ignored.\n",
      "  self._warn_if_super_not_called()\n"
     ]
    },
    {
     "name": "stdout",
     "output_type": "stream",
     "text": [
      "\u001b[1m411/411\u001b[0m \u001b[32m━━━━━━━━━━━━━━━━━━━━\u001b[0m\u001b[37m\u001b[0m \u001b[1m3s\u001b[0m 7ms/step\n",
      "Test predictions - Min: -0.35, Max: 352.48\n",
      "Submission saved! Shape: (13148, 2)\n"
     ]
    },
    {
     "data": {
      "image/png": "[encoded data removed]",
      "text/plain": [
       "<Figure size 1000x500 with 1 Axes>"
      ]
     },
     "metadata": {},
     "output_type": "display_data"
    },
    {
     "name": "stdout",
     "output_type": "stream",
     "text": [
      "Test predictions completed successfully!\n"
     ]
    }
   ],
   "source": [
    "print(\"Generating test predictions...\")\n",
    "\n",
    "# Prepare test data (use Step 5 scalers and model)\n",
    "test_features = test.drop(['No'], axis=1, errors='ignore')\n",
    "\n",
    "# Handle missing columns\n",
    "missing_cols = []\n",
    "for col in X_original.columns:\n",
    "    if col not in test_features.columns:\n",
    "        test_features[col] = 0\n",
    "        missing_cols.append(col)\n",
    "\n",
    "if missing_cols:\n",
    "    print(f\"Added missing columns: {missing_cols}\")\n",
    "\n",
    "# Ensure same column order\n",
    "test_features = test_features[X_original.columns]\n",
    "test_scaled = scaler_X.transform(test_features)\n",
    "\n",
    "# Combine training tail + test for sequences\n",
    "train_tail = X_scaled[-seq_length:]\n",
    "combined = np.vstack([train_tail, test_scaled])\n",
    "\n",
    "# Create test generator\n",
    "test_gen = TimeseriesGenerator(combined, np.zeros(len(combined)), length=seq_length, batch_size=32)\n",
    "\n",
    "# Predict\n",
    "test_preds_scaled = model_step5.predict(test_gen, verbose=1)\n",
    "test_preds = scaler_y.inverse_transform(test_preds_scaled)\n",
    "\n",
    "print(f\"Test predictions - Min: {test_preds.min():.2f}, Max: {test_preds.max():.2f}\")\n",
    "\n",
    "# Create submission\n",
    "submission = pd.DataFrame({\n",
    "    'row ID': test.index.strftime('%Y-%m-%d %-H:%M:%S'),\n",
    "    'pm2.5': test_preds.flatten()\n",
    "})\n",
    "\n",
    "submission.to_csv('data/final_submission.csv', index=False)\n",
    "print(f\"Submission saved! Shape: {submission.shape}\")\n",
    "\n",
    "# Plot distributions\n",
    "plt.figure(figsize=(10, 5))\n",
    "plt.hist(y_original, bins=50, alpha=0.7, label='Training PM2.5', color='blue')\n",
    "plt.hist(test_preds.flatten(), bins=50, alpha=0.7, label='Test Predictions', color='red')\n",
    "plt.xlabel('PM2.5')\n",
    "plt.ylabel('Frequency')\n",
    "plt.title('PM2.5 Distribution Comparison')\n",
    "plt.legend()\n",
    "plt.show()\n",
    "\n",
    "print(\"Test predictions completed successfully!\")"
   ]
  }
 ],
 "metadata": {
  "colab": {
   "provenance": []
  },
  "kernelspec": {
   "display_name": "Python 3 (ipykernel)",
   "language": "python",
   "name": "python3"
  },
  "language_info": {
   "codemirror_mode": {
    "name": "ipython",
    "version": 3
   },
   "file_extension": ".py",
   "mimetype": "text/x-python",
   "name": "python",
   "nbconvert_exporter": "python",
   "pygments_lexer": "ipython3",
   "version": "3.11.0"
  }
 },
 "nbformat": 4,
 "nbformat_minor": 4
}
